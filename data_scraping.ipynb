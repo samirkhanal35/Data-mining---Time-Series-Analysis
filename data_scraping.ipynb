{
 "cells": [
  {
   "cell_type": "code",
   "execution_count": 2,
   "id": "d2974caf",
   "metadata": {},
   "outputs": [],
   "source": [
    "# !pip install yfinance"
   ]
  },
  {
   "cell_type": "code",
   "execution_count": 8,
   "id": "9b9f1ecf",
   "metadata": {},
   "outputs": [],
   "source": [
    "import pandas as pd"
   ]
  },
  {
   "cell_type": "code",
   "execution_count": 5,
   "id": "d3dceede",
   "metadata": {},
   "outputs": [
    {
     "name": "stdout",
     "output_type": "stream",
     "text": [
      "[*********************100%***********************]  1 of 1 completed\n"
     ]
    }
   ],
   "source": [
    "import yfinance as yf\n",
    "data = yf.download(\"META\", start=\"2017-01-01\", end=\"2023-04-01\")\n",
    "\n"
   ]
  },
  {
   "cell_type": "code",
   "execution_count": 6,
   "id": "d554ed7f",
   "metadata": {},
   "outputs": [
    {
     "data": {
      "text/html": [
       "<div>\n",
       "<style scoped>\n",
       "    .dataframe tbody tr th:only-of-type {\n",
       "        vertical-align: middle;\n",
       "    }\n",
       "\n",
       "    .dataframe tbody tr th {\n",
       "        vertical-align: top;\n",
       "    }\n",
       "\n",
       "    .dataframe thead th {\n",
       "        text-align: right;\n",
       "    }\n",
       "</style>\n",
       "<table border=\"1\" class=\"dataframe\">\n",
       "  <thead>\n",
       "    <tr style=\"text-align: right;\">\n",
       "      <th></th>\n",
       "      <th>Open</th>\n",
       "      <th>High</th>\n",
       "      <th>Low</th>\n",
       "      <th>Close</th>\n",
       "      <th>Adj Close</th>\n",
       "      <th>Volume</th>\n",
       "    </tr>\n",
       "    <tr>\n",
       "      <th>Date</th>\n",
       "      <th></th>\n",
       "      <th></th>\n",
       "      <th></th>\n",
       "      <th></th>\n",
       "      <th></th>\n",
       "      <th></th>\n",
       "    </tr>\n",
       "  </thead>\n",
       "  <tbody>\n",
       "    <tr>\n",
       "      <th>2017-01-03</th>\n",
       "      <td>116.029999</td>\n",
       "      <td>117.839996</td>\n",
       "      <td>115.510002</td>\n",
       "      <td>116.860001</td>\n",
       "      <td>116.860001</td>\n",
       "      <td>20663900</td>\n",
       "    </tr>\n",
       "    <tr>\n",
       "      <th>2017-01-04</th>\n",
       "      <td>117.550003</td>\n",
       "      <td>119.660004</td>\n",
       "      <td>117.290001</td>\n",
       "      <td>118.690002</td>\n",
       "      <td>118.690002</td>\n",
       "      <td>19630900</td>\n",
       "    </tr>\n",
       "    <tr>\n",
       "      <th>2017-01-05</th>\n",
       "      <td>118.860001</td>\n",
       "      <td>120.949997</td>\n",
       "      <td>118.320000</td>\n",
       "      <td>120.669998</td>\n",
       "      <td>120.669998</td>\n",
       "      <td>19492200</td>\n",
       "    </tr>\n",
       "    <tr>\n",
       "      <th>2017-01-06</th>\n",
       "      <td>120.980003</td>\n",
       "      <td>123.879997</td>\n",
       "      <td>120.029999</td>\n",
       "      <td>123.410004</td>\n",
       "      <td>123.410004</td>\n",
       "      <td>28545300</td>\n",
       "    </tr>\n",
       "    <tr>\n",
       "      <th>2017-01-09</th>\n",
       "      <td>123.550003</td>\n",
       "      <td>125.430000</td>\n",
       "      <td>123.040001</td>\n",
       "      <td>124.900002</td>\n",
       "      <td>124.900002</td>\n",
       "      <td>22880400</td>\n",
       "    </tr>\n",
       "    <tr>\n",
       "      <th>...</th>\n",
       "      <td>...</td>\n",
       "      <td>...</td>\n",
       "      <td>...</td>\n",
       "      <td>...</td>\n",
       "      <td>...</td>\n",
       "      <td>...</td>\n",
       "    </tr>\n",
       "    <tr>\n",
       "      <th>2023-03-27</th>\n",
       "      <td>204.809998</td>\n",
       "      <td>205.860001</td>\n",
       "      <td>201.360001</td>\n",
       "      <td>202.839996</td>\n",
       "      <td>202.839996</td>\n",
       "      <td>18527200</td>\n",
       "    </tr>\n",
       "    <tr>\n",
       "      <th>2023-03-28</th>\n",
       "      <td>200.149994</td>\n",
       "      <td>201.029999</td>\n",
       "      <td>197.899994</td>\n",
       "      <td>200.679993</td>\n",
       "      <td>200.679993</td>\n",
       "      <td>19127300</td>\n",
       "    </tr>\n",
       "    <tr>\n",
       "      <th>2023-03-29</th>\n",
       "      <td>203.559998</td>\n",
       "      <td>205.720001</td>\n",
       "      <td>202.539993</td>\n",
       "      <td>205.350006</td>\n",
       "      <td>205.350006</td>\n",
       "      <td>18851100</td>\n",
       "    </tr>\n",
       "    <tr>\n",
       "      <th>2023-03-30</th>\n",
       "      <td>203.380005</td>\n",
       "      <td>208.089996</td>\n",
       "      <td>202.820007</td>\n",
       "      <td>207.839996</td>\n",
       "      <td>207.839996</td>\n",
       "      <td>22608300</td>\n",
       "    </tr>\n",
       "    <tr>\n",
       "      <th>2023-03-31</th>\n",
       "      <td>207.240005</td>\n",
       "      <td>212.169998</td>\n",
       "      <td>206.770004</td>\n",
       "      <td>211.940002</td>\n",
       "      <td>211.940002</td>\n",
       "      <td>25412000</td>\n",
       "    </tr>\n",
       "  </tbody>\n",
       "</table>\n",
       "<p>1572 rows × 6 columns</p>\n",
       "</div>"
      ],
      "text/plain": [
       "                  Open        High         Low       Close   Adj Close  \\\n",
       "Date                                                                     \n",
       "2017-01-03  116.029999  117.839996  115.510002  116.860001  116.860001   \n",
       "2017-01-04  117.550003  119.660004  117.290001  118.690002  118.690002   \n",
       "2017-01-05  118.860001  120.949997  118.320000  120.669998  120.669998   \n",
       "2017-01-06  120.980003  123.879997  120.029999  123.410004  123.410004   \n",
       "2017-01-09  123.550003  125.430000  123.040001  124.900002  124.900002   \n",
       "...                ...         ...         ...         ...         ...   \n",
       "2023-03-27  204.809998  205.860001  201.360001  202.839996  202.839996   \n",
       "2023-03-28  200.149994  201.029999  197.899994  200.679993  200.679993   \n",
       "2023-03-29  203.559998  205.720001  202.539993  205.350006  205.350006   \n",
       "2023-03-30  203.380005  208.089996  202.820007  207.839996  207.839996   \n",
       "2023-03-31  207.240005  212.169998  206.770004  211.940002  211.940002   \n",
       "\n",
       "              Volume  \n",
       "Date                  \n",
       "2017-01-03  20663900  \n",
       "2017-01-04  19630900  \n",
       "2017-01-05  19492200  \n",
       "2017-01-06  28545300  \n",
       "2017-01-09  22880400  \n",
       "...              ...  \n",
       "2023-03-27  18527200  \n",
       "2023-03-28  19127300  \n",
       "2023-03-29  18851100  \n",
       "2023-03-30  22608300  \n",
       "2023-03-31  25412000  \n",
       "\n",
       "[1572 rows x 6 columns]"
      ]
     },
     "execution_count": 6,
     "metadata": {},
     "output_type": "execute_result"
    }
   ],
   "source": [
    "data"
   ]
  },
  {
   "cell_type": "code",
   "execution_count": 7,
   "id": "3f20fefb",
   "metadata": {},
   "outputs": [
    {
     "data": {
      "text/plain": [
       "pandas.core.frame.DataFrame"
      ]
     },
     "execution_count": 7,
     "metadata": {},
     "output_type": "execute_result"
    }
   ],
   "source": [
    "type(data)"
   ]
  },
  {
   "cell_type": "code",
   "execution_count": 9,
   "id": "19de839a",
   "metadata": {},
   "outputs": [],
   "source": [
    "data.to_csv('meta_stocks_.csv')"
   ]
  }
 ],
 "metadata": {
  "kernelspec": {
   "display_name": "Python 3 (ipykernel)",
   "language": "python",
   "name": "python3"
  },
  "language_info": {
   "codemirror_mode": {
    "name": "ipython",
    "version": 3
   },
   "file_extension": ".py",
   "mimetype": "text/x-python",
   "name": "python",
   "nbconvert_exporter": "python",
   "pygments_lexer": "ipython3",
   "version": "3.9.12"
  }
 },
 "nbformat": 4,
 "nbformat_minor": 5
}
